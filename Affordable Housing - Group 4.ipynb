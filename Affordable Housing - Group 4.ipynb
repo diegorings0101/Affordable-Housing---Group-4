{
 "cells": [
  {
   "cell_type": "code",
   "execution_count": 1,
   "id": "09a76e8d",
   "metadata": {},
   "outputs": [],
   "source": [
    "# import libraries\n",
    "import pandas as pd\n",
    "import numpy as np\n",
    "from sodapy import Socrata"
   ]
  },
  {
   "cell_type": "code",
   "execution_count": 2,
   "id": "feb4583d",
   "metadata": {},
   "outputs": [],
   "source": [
    "data_url = 'data.cityofnewyork.us'"
   ]
  },
  {
   "cell_type": "code",
   "execution_count": 3,
   "id": "af6ea78c",
   "metadata": {},
   "outputs": [],
   "source": [
    "data_set = 'hg8x-zxpr'"
   ]
  },
  {
   "cell_type": "code",
   "execution_count": 4,
   "id": "d6140ebc",
   "metadata": {},
   "outputs": [],
   "source": [
    "app_token = '3T4E27rJDweWSnY03BDvCX8sn'"
   ]
  },
  {
   "cell_type": "code",
   "execution_count": 5,
   "id": "a4cada06",
   "metadata": {},
   "outputs": [
    {
     "name": "stdout",
     "output_type": "stream",
     "text": [
      "nyc open data client name is: <sodapy.socrata.Socrata object at 0x00000166BD2B3790>\n",
      "nyc open data client data type is: <class 'sodapy.socrata.Socrata'>\n"
     ]
    }
   ],
   "source": [
    "nyc_open_data_client = Socrata(data_url, app_token, timeout = 200)\n",
    "print(f\"nyc open data client name is: {nyc_open_data_client}\")\n",
    "print(f\"nyc open data client data type is: {type(nyc_open_data_client)}\")"
   ]
  },
  {
   "cell_type": "code",
   "execution_count": 6,
   "id": "1ed3de5c",
   "metadata": {},
   "outputs": [
    {
     "name": "stdout",
     "output_type": "stream",
     "text": [
      "total records in hg8x-zxpr: 5798\n"
     ]
    }
   ],
   "source": [
    "total_record_count = nyc_open_data_client.get(data_set, select = \"COUNT(*)\")\n",
    "print(f\"total records in {data_set}: {total_record_count[0]['COUNT']}\")"
   ]
  },
  {
   "cell_type": "code",
   "execution_count": 7,
   "id": "4c4039e6",
   "metadata": {},
   "outputs": [],
   "source": [
    "def extract_socrata_data(chunk_size = 2500,\n",
    "                         data_set = data_set,\n",
    "                         where = None):\n",
    "    \n",
    "    # measure time this function takes\n",
    "    import time\n",
    "    start_time = time.time()\n",
    "    \n",
    "    # get total number or records\n",
    "    if where == None:\n",
    "        total_records = int(nyc_open_data_client.get(data_set,\n",
    "                                                     select= \"COUNT(*)\")[0][\"COUNT\"])\n",
    "    else:\n",
    "        total_records = int(nyc_open_data_client.get(data_set,\n",
    "                                                     where = where,\n",
    "                                                     select= \"COUNT(*)\")[0][\"COUNT\"])\n",
    "    \n",
    "    # start at 0, empty list for results\n",
    "    start = 0                   \n",
    "    results = []                \n",
    "\n",
    "    while True:\n",
    "\n",
    "        if where == None:\n",
    "            # fetch the set of records starting at 'start'\n",
    "            results.extend(nyc_open_data_client.get(data_set,\n",
    "                                                    offset = start,\n",
    "                                                    limit = chunk_size))\n",
    "            \n",
    "        elif where != None:\n",
    "            results.extend(nyc_open_data_client.get(data_set,\n",
    "                                                    where = where,\n",
    "                                                    offset = start,\n",
    "                                                    limit = chunk_size))\n",
    "        # update the starting record number\n",
    "        start = start + chunk_size\n",
    "\n",
    "        # if we have fetched all of the records (we have reached total_records), exit loop\n",
    "        if (start > total_records):\n",
    "            break\n",
    "\n",
    "    # convert the list into a pandas data frame\n",
    "    data = pd.DataFrame.from_records(results)\n",
    "\n",
    "    end_time = time.time()\n",
    "    print(f\"function took {round(end_time - start_time, 1)} seconds\")\n",
    "\n",
    "    print(f\"the shape of your dataframe is: {data.shape}\")\n",
    "    return data"
   ]
  },
  {
   "cell_type": "code",
   "execution_count": 8,
   "id": "792b3160",
   "metadata": {},
   "outputs": [
    {
     "name": "stdout",
     "output_type": "stream",
     "text": [
      "function took 0.9 seconds\n",
      "the shape of your dataframe is: (5798, 41)\n"
     ]
    }
   ],
   "source": [
    "data = extract_socrata_data(chunk_size = 5798,\n",
    "                         data_set = data_set)"
   ]
  },
  {
   "cell_type": "code",
   "execution_count": 9,
   "id": "390a169f",
   "metadata": {},
   "outputs": [
    {
     "data": {
      "text/plain": [
       "Index(['project_id', 'project_name', 'project_start_date', 'building_id',\n",
       "       'house_number', 'street_name', 'borough', 'postcode', 'bbl',\n",
       "       'community_board', 'council_district', 'census_tract',\n",
       "       'neighborhood_tabulation_area', 'latitude', 'longitude',\n",
       "       'latitude_internal', 'longitude_internal',\n",
       "       'reporting_construction_type', 'extended_affordability_status',\n",
       "       'prevailing_wage_status', 'extremely_low_income_units',\n",
       "       'very_low_income_units', 'low_income_units', 'moderate_income_units',\n",
       "       'middle_income_units', 'other_income_units', 'studio_units',\n",
       "       '_1_br_units', '_2_br_units', '_3_br_units', '_4_br_units',\n",
       "       '_5_br_units', '_6_br_units', 'unknown_br_units',\n",
       "       'counted_rental_units', 'counted_homeownership_units',\n",
       "       'all_counted_units', 'total_units', 'project_completion_date',\n",
       "       'building_completion_date', 'bin'],\n",
       "      dtype='object')"
      ]
     },
     "execution_count": 9,
     "metadata": {},
     "output_type": "execute_result"
    }
   ],
   "source": [
    "data.columns"
   ]
  },
  {
   "cell_type": "code",
   "execution_count": 10,
   "id": "60d9f4a8",
   "metadata": {},
   "outputs": [],
   "source": [
    "# create and run a function to ceate data profiling dataframe\n",
    "\n",
    "def create_data_profiling_df(data):\n",
    "    \n",
    "    # create an empty dataframe to gather information about each column\n",
    "    data_profiling_df = pd.DataFrame(columns = [\"column_name\",\n",
    "                                                \"column_type\",\n",
    "                                                \"unique_values\",\n",
    "                                                \"duplicate_values\",\n",
    "                                                \"null_values\",\n",
    "                                                \"non_null_values\"])\n",
    "\n",
    "    # loop through each column to add rows to the data_profiling_df dataframe\n",
    "    for column in data.columns:\n",
    "\n",
    "        info_dict = {}\n",
    "\n",
    "        try:\n",
    "            info_dict[\"column_name\"] = column\n",
    "            info_dict[\"column_type\"] = data[column].dtypes\n",
    "            info_dict[\"unique_values\"] = len(data[column].unique())\n",
    "            info_dict[\"duplicate_values\"] = data[column].count() - len(data[column].dropna().unique())\n",
    "            info_dict[\"null_values\"] = data[column].isna().sum()\n",
    "            info_dict[\"non_null_values\"] = data[column].count()\n",
    "\n",
    "        except:\n",
    "            print(f\"unable to read column: {column}, you may want to drop this column\")\n",
    "\n",
    "        data_profiling_df = data_profiling_df.append(info_dict, ignore_index=True)\n",
    "\n",
    "    data_profiling_df.sort_values(by = ['unique_values', \"non_null_values\"],\n",
    "                                  ascending = [False, False],\n",
    "                                  inplace=True)\n",
    "    \n",
    "    return data_profiling_df"
   ]
  },
  {
   "cell_type": "code",
   "execution_count": 11,
   "id": "eda4ad38",
   "metadata": {},
   "outputs": [],
   "source": [
    "data_profiling_df = create_data_profiling_df(data = data)"
   ]
  },
  {
   "cell_type": "code",
   "execution_count": 12,
   "id": "be03d63d",
   "metadata": {},
   "outputs": [
    {
     "data": {
      "text/html": [
       "<div>\n",
       "<style scoped>\n",
       "    .dataframe tbody tr th:only-of-type {\n",
       "        vertical-align: middle;\n",
       "    }\n",
       "\n",
       "    .dataframe tbody tr th {\n",
       "        vertical-align: top;\n",
       "    }\n",
       "\n",
       "    .dataframe thead th {\n",
       "        text-align: right;\n",
       "    }\n",
       "</style>\n",
       "<table border=\"1\" class=\"dataframe\">\n",
       "  <thead>\n",
       "    <tr style=\"text-align: right;\">\n",
       "      <th></th>\n",
       "      <th>column_name</th>\n",
       "      <th>column_type</th>\n",
       "      <th>unique_values</th>\n",
       "      <th>duplicate_values</th>\n",
       "      <th>null_values</th>\n",
       "      <th>non_null_values</th>\n",
       "    </tr>\n",
       "  </thead>\n",
       "  <tbody>\n",
       "    <tr>\n",
       "      <th>3</th>\n",
       "      <td>building_id</td>\n",
       "      <td>object</td>\n",
       "      <td>4663</td>\n",
       "      <td>47</td>\n",
       "      <td>1089</td>\n",
       "      <td>4709</td>\n",
       "    </tr>\n",
       "    <tr>\n",
       "      <th>13</th>\n",
       "      <td>latitude</td>\n",
       "      <td>object</td>\n",
       "      <td>4469</td>\n",
       "      <td>174</td>\n",
       "      <td>1156</td>\n",
       "      <td>4642</td>\n",
       "    </tr>\n",
       "    <tr>\n",
       "      <th>14</th>\n",
       "      <td>longitude</td>\n",
       "      <td>object</td>\n",
       "      <td>4463</td>\n",
       "      <td>180</td>\n",
       "      <td>1156</td>\n",
       "      <td>4642</td>\n",
       "    </tr>\n",
       "    <tr>\n",
       "      <th>8</th>\n",
       "      <td>bbl</td>\n",
       "      <td>object</td>\n",
       "      <td>3854</td>\n",
       "      <td>699</td>\n",
       "      <td>1246</td>\n",
       "      <td>4552</td>\n",
       "    </tr>\n",
       "    <tr>\n",
       "      <th>16</th>\n",
       "      <td>longitude_internal</td>\n",
       "      <td>object</td>\n",
       "      <td>3806</td>\n",
       "      <td>740</td>\n",
       "      <td>1253</td>\n",
       "      <td>4545</td>\n",
       "    </tr>\n",
       "    <tr>\n",
       "      <th>15</th>\n",
       "      <td>latitude_internal</td>\n",
       "      <td>object</td>\n",
       "      <td>3494</td>\n",
       "      <td>1052</td>\n",
       "      <td>1253</td>\n",
       "      <td>4545</td>\n",
       "    </tr>\n",
       "    <tr>\n",
       "      <th>0</th>\n",
       "      <td>project_id</td>\n",
       "      <td>object</td>\n",
       "      <td>3185</td>\n",
       "      <td>2613</td>\n",
       "      <td>0</td>\n",
       "      <td>5798</td>\n",
       "    </tr>\n",
       "    <tr>\n",
       "      <th>40</th>\n",
       "      <td>bin</td>\n",
       "      <td>object</td>\n",
       "      <td>2794</td>\n",
       "      <td>73</td>\n",
       "      <td>2932</td>\n",
       "      <td>2866</td>\n",
       "    </tr>\n",
       "    <tr>\n",
       "      <th>4</th>\n",
       "      <td>house_number</td>\n",
       "      <td>object</td>\n",
       "      <td>2259</td>\n",
       "      <td>3539</td>\n",
       "      <td>0</td>\n",
       "      <td>5798</td>\n",
       "    </tr>\n",
       "    <tr>\n",
       "      <th>1</th>\n",
       "      <td>project_name</td>\n",
       "      <td>object</td>\n",
       "      <td>2097</td>\n",
       "      <td>3701</td>\n",
       "      <td>0</td>\n",
       "      <td>5798</td>\n",
       "    </tr>\n",
       "    <tr>\n",
       "      <th>2</th>\n",
       "      <td>project_start_date</td>\n",
       "      <td>object</td>\n",
       "      <td>1400</td>\n",
       "      <td>4398</td>\n",
       "      <td>0</td>\n",
       "      <td>5798</td>\n",
       "    </tr>\n",
       "    <tr>\n",
       "      <th>39</th>\n",
       "      <td>building_completion_date</td>\n",
       "      <td>object</td>\n",
       "      <td>1328</td>\n",
       "      <td>2820</td>\n",
       "      <td>1651</td>\n",
       "      <td>4147</td>\n",
       "    </tr>\n",
       "    <tr>\n",
       "      <th>5</th>\n",
       "      <td>street_name</td>\n",
       "      <td>object</td>\n",
       "      <td>1223</td>\n",
       "      <td>4575</td>\n",
       "      <td>0</td>\n",
       "      <td>5798</td>\n",
       "    </tr>\n",
       "    <tr>\n",
       "      <th>38</th>\n",
       "      <td>project_completion_date</td>\n",
       "      <td>object</td>\n",
       "      <td>1218</td>\n",
       "      <td>2747</td>\n",
       "      <td>1834</td>\n",
       "      <td>3964</td>\n",
       "    </tr>\n",
       "    <tr>\n",
       "      <th>11</th>\n",
       "      <td>census_tract</td>\n",
       "      <td>object</td>\n",
       "      <td>684</td>\n",
       "      <td>3965</td>\n",
       "      <td>1150</td>\n",
       "      <td>4648</td>\n",
       "    </tr>\n",
       "    <tr>\n",
       "      <th>37</th>\n",
       "      <td>total_units</td>\n",
       "      <td>object</td>\n",
       "      <td>367</td>\n",
       "      <td>5431</td>\n",
       "      <td>0</td>\n",
       "      <td>5798</td>\n",
       "    </tr>\n",
       "    <tr>\n",
       "      <th>36</th>\n",
       "      <td>all_counted_units</td>\n",
       "      <td>object</td>\n",
       "      <td>301</td>\n",
       "      <td>5497</td>\n",
       "      <td>0</td>\n",
       "      <td>5798</td>\n",
       "    </tr>\n",
       "    <tr>\n",
       "      <th>34</th>\n",
       "      <td>counted_rental_units</td>\n",
       "      <td>object</td>\n",
       "      <td>280</td>\n",
       "      <td>5518</td>\n",
       "      <td>0</td>\n",
       "      <td>5798</td>\n",
       "    </tr>\n",
       "    <tr>\n",
       "      <th>22</th>\n",
       "      <td>low_income_units</td>\n",
       "      <td>object</td>\n",
       "      <td>201</td>\n",
       "      <td>5597</td>\n",
       "      <td>0</td>\n",
       "      <td>5798</td>\n",
       "    </tr>\n",
       "    <tr>\n",
       "      <th>21</th>\n",
       "      <td>very_low_income_units</td>\n",
       "      <td>object</td>\n",
       "      <td>181</td>\n",
       "      <td>5617</td>\n",
       "      <td>0</td>\n",
       "      <td>5798</td>\n",
       "    </tr>\n",
       "    <tr>\n",
       "      <th>27</th>\n",
       "      <td>_1_br_units</td>\n",
       "      <td>object</td>\n",
       "      <td>165</td>\n",
       "      <td>5633</td>\n",
       "      <td>0</td>\n",
       "      <td>5798</td>\n",
       "    </tr>\n",
       "    <tr>\n",
       "      <th>12</th>\n",
       "      <td>neighborhood_tabulation_area</td>\n",
       "      <td>object</td>\n",
       "      <td>160</td>\n",
       "      <td>4489</td>\n",
       "      <td>1150</td>\n",
       "      <td>4648</td>\n",
       "    </tr>\n",
       "    <tr>\n",
       "      <th>28</th>\n",
       "      <td>_2_br_units</td>\n",
       "      <td>object</td>\n",
       "      <td>157</td>\n",
       "      <td>5641</td>\n",
       "      <td>0</td>\n",
       "      <td>5798</td>\n",
       "    </tr>\n",
       "    <tr>\n",
       "      <th>20</th>\n",
       "      <td>extremely_low_income_units</td>\n",
       "      <td>object</td>\n",
       "      <td>151</td>\n",
       "      <td>5647</td>\n",
       "      <td>0</td>\n",
       "      <td>5798</td>\n",
       "    </tr>\n",
       "    <tr>\n",
       "      <th>7</th>\n",
       "      <td>postcode</td>\n",
       "      <td>object</td>\n",
       "      <td>145</td>\n",
       "      <td>4498</td>\n",
       "      <td>1156</td>\n",
       "      <td>4642</td>\n",
       "    </tr>\n",
       "    <tr>\n",
       "      <th>26</th>\n",
       "      <td>studio_units</td>\n",
       "      <td>object</td>\n",
       "      <td>125</td>\n",
       "      <td>5673</td>\n",
       "      <td>0</td>\n",
       "      <td>5798</td>\n",
       "    </tr>\n",
       "    <tr>\n",
       "      <th>35</th>\n",
       "      <td>counted_homeownership_units</td>\n",
       "      <td>object</td>\n",
       "      <td>121</td>\n",
       "      <td>5677</td>\n",
       "      <td>0</td>\n",
       "      <td>5798</td>\n",
       "    </tr>\n",
       "    <tr>\n",
       "      <th>24</th>\n",
       "      <td>middle_income_units</td>\n",
       "      <td>object</td>\n",
       "      <td>117</td>\n",
       "      <td>5681</td>\n",
       "      <td>0</td>\n",
       "      <td>5798</td>\n",
       "    </tr>\n",
       "    <tr>\n",
       "      <th>23</th>\n",
       "      <td>moderate_income_units</td>\n",
       "      <td>object</td>\n",
       "      <td>92</td>\n",
       "      <td>5706</td>\n",
       "      <td>0</td>\n",
       "      <td>5798</td>\n",
       "    </tr>\n",
       "    <tr>\n",
       "      <th>29</th>\n",
       "      <td>_3_br_units</td>\n",
       "      <td>object</td>\n",
       "      <td>79</td>\n",
       "      <td>5719</td>\n",
       "      <td>0</td>\n",
       "      <td>5798</td>\n",
       "    </tr>\n",
       "    <tr>\n",
       "      <th>9</th>\n",
       "      <td>community_board</td>\n",
       "      <td>object</td>\n",
       "      <td>62</td>\n",
       "      <td>5736</td>\n",
       "      <td>0</td>\n",
       "      <td>5798</td>\n",
       "    </tr>\n",
       "    <tr>\n",
       "      <th>10</th>\n",
       "      <td>council_district</td>\n",
       "      <td>object</td>\n",
       "      <td>52</td>\n",
       "      <td>5732</td>\n",
       "      <td>15</td>\n",
       "      <td>5783</td>\n",
       "    </tr>\n",
       "    <tr>\n",
       "      <th>30</th>\n",
       "      <td>_4_br_units</td>\n",
       "      <td>object</td>\n",
       "      <td>30</td>\n",
       "      <td>5768</td>\n",
       "      <td>0</td>\n",
       "      <td>5798</td>\n",
       "    </tr>\n",
       "    <tr>\n",
       "      <th>33</th>\n",
       "      <td>unknown_br_units</td>\n",
       "      <td>object</td>\n",
       "      <td>23</td>\n",
       "      <td>5775</td>\n",
       "      <td>0</td>\n",
       "      <td>5798</td>\n",
       "    </tr>\n",
       "    <tr>\n",
       "      <th>31</th>\n",
       "      <td>_5_br_units</td>\n",
       "      <td>object</td>\n",
       "      <td>9</td>\n",
       "      <td>5789</td>\n",
       "      <td>0</td>\n",
       "      <td>5798</td>\n",
       "    </tr>\n",
       "    <tr>\n",
       "      <th>32</th>\n",
       "      <td>_6_br_units</td>\n",
       "      <td>object</td>\n",
       "      <td>6</td>\n",
       "      <td>5792</td>\n",
       "      <td>0</td>\n",
       "      <td>5798</td>\n",
       "    </tr>\n",
       "    <tr>\n",
       "      <th>6</th>\n",
       "      <td>borough</td>\n",
       "      <td>object</td>\n",
       "      <td>5</td>\n",
       "      <td>5793</td>\n",
       "      <td>0</td>\n",
       "      <td>5798</td>\n",
       "    </tr>\n",
       "    <tr>\n",
       "      <th>25</th>\n",
       "      <td>other_income_units</td>\n",
       "      <td>object</td>\n",
       "      <td>4</td>\n",
       "      <td>5794</td>\n",
       "      <td>0</td>\n",
       "      <td>5798</td>\n",
       "    </tr>\n",
       "    <tr>\n",
       "      <th>17</th>\n",
       "      <td>reporting_construction_type</td>\n",
       "      <td>object</td>\n",
       "      <td>2</td>\n",
       "      <td>5796</td>\n",
       "      <td>0</td>\n",
       "      <td>5798</td>\n",
       "    </tr>\n",
       "    <tr>\n",
       "      <th>18</th>\n",
       "      <td>extended_affordability_status</td>\n",
       "      <td>object</td>\n",
       "      <td>2</td>\n",
       "      <td>5796</td>\n",
       "      <td>0</td>\n",
       "      <td>5798</td>\n",
       "    </tr>\n",
       "    <tr>\n",
       "      <th>19</th>\n",
       "      <td>prevailing_wage_status</td>\n",
       "      <td>object</td>\n",
       "      <td>2</td>\n",
       "      <td>5796</td>\n",
       "      <td>0</td>\n",
       "      <td>5798</td>\n",
       "    </tr>\n",
       "  </tbody>\n",
       "</table>\n",
       "</div>"
      ],
      "text/plain": [
       "                      column_name column_type unique_values duplicate_values  \\\n",
       "3                     building_id      object          4663               47   \n",
       "13                       latitude      object          4469              174   \n",
       "14                      longitude      object          4463              180   \n",
       "8                             bbl      object          3854              699   \n",
       "16             longitude_internal      object          3806              740   \n",
       "15              latitude_internal      object          3494             1052   \n",
       "0                      project_id      object          3185             2613   \n",
       "40                            bin      object          2794               73   \n",
       "4                    house_number      object          2259             3539   \n",
       "1                    project_name      object          2097             3701   \n",
       "2              project_start_date      object          1400             4398   \n",
       "39       building_completion_date      object          1328             2820   \n",
       "5                     street_name      object          1223             4575   \n",
       "38        project_completion_date      object          1218             2747   \n",
       "11                   census_tract      object           684             3965   \n",
       "37                    total_units      object           367             5431   \n",
       "36              all_counted_units      object           301             5497   \n",
       "34           counted_rental_units      object           280             5518   \n",
       "22               low_income_units      object           201             5597   \n",
       "21          very_low_income_units      object           181             5617   \n",
       "27                    _1_br_units      object           165             5633   \n",
       "12   neighborhood_tabulation_area      object           160             4489   \n",
       "28                    _2_br_units      object           157             5641   \n",
       "20     extremely_low_income_units      object           151             5647   \n",
       "7                        postcode      object           145             4498   \n",
       "26                   studio_units      object           125             5673   \n",
       "35    counted_homeownership_units      object           121             5677   \n",
       "24            middle_income_units      object           117             5681   \n",
       "23          moderate_income_units      object            92             5706   \n",
       "29                    _3_br_units      object            79             5719   \n",
       "9                 community_board      object            62             5736   \n",
       "10               council_district      object            52             5732   \n",
       "30                    _4_br_units      object            30             5768   \n",
       "33               unknown_br_units      object            23             5775   \n",
       "31                    _5_br_units      object             9             5789   \n",
       "32                    _6_br_units      object             6             5792   \n",
       "6                         borough      object             5             5793   \n",
       "25             other_income_units      object             4             5794   \n",
       "17    reporting_construction_type      object             2             5796   \n",
       "18  extended_affordability_status      object             2             5796   \n",
       "19         prevailing_wage_status      object             2             5796   \n",
       "\n",
       "   null_values non_null_values  \n",
       "3         1089            4709  \n",
       "13        1156            4642  \n",
       "14        1156            4642  \n",
       "8         1246            4552  \n",
       "16        1253            4545  \n",
       "15        1253            4545  \n",
       "0            0            5798  \n",
       "40        2932            2866  \n",
       "4            0            5798  \n",
       "1            0            5798  \n",
       "2            0            5798  \n",
       "39        1651            4147  \n",
       "5            0            5798  \n",
       "38        1834            3964  \n",
       "11        1150            4648  \n",
       "37           0            5798  \n",
       "36           0            5798  \n",
       "34           0            5798  \n",
       "22           0            5798  \n",
       "21           0            5798  \n",
       "27           0            5798  \n",
       "12        1150            4648  \n",
       "28           0            5798  \n",
       "20           0            5798  \n",
       "7         1156            4642  \n",
       "26           0            5798  \n",
       "35           0            5798  \n",
       "24           0            5798  \n",
       "23           0            5798  \n",
       "29           0            5798  \n",
       "9            0            5798  \n",
       "10          15            5783  \n",
       "30           0            5798  \n",
       "33           0            5798  \n",
       "31           0            5798  \n",
       "32           0            5798  \n",
       "6            0            5798  \n",
       "25           0            5798  \n",
       "17           0            5798  \n",
       "18           0            5798  \n",
       "19           0            5798  "
      ]
     },
     "execution_count": 12,
     "metadata": {},
     "output_type": "execute_result"
    }
   ],
   "source": [
    "data_profiling_df"
   ]
  },
  {
   "cell_type": "code",
   "execution_count": 13,
   "id": "77791f13",
   "metadata": {},
   "outputs": [
    {
     "name": "stdout",
     "output_type": "stream",
     "text": [
      "<class 'pandas.core.frame.DataFrame'>\n",
      "RangeIndex: 5798 entries, 0 to 5797\n",
      "Data columns (total 41 columns):\n",
      " #   Column                         Non-Null Count  Dtype \n",
      "---  ------                         --------------  ----- \n",
      " 0   project_id                     5798 non-null   object\n",
      " 1   project_name                   5798 non-null   object\n",
      " 2   project_start_date             5798 non-null   object\n",
      " 3   building_id                    4709 non-null   object\n",
      " 4   house_number                   5798 non-null   object\n",
      " 5   street_name                    5798 non-null   object\n",
      " 6   borough                        5798 non-null   object\n",
      " 7   postcode                       4642 non-null   object\n",
      " 8   bbl                            4552 non-null   object\n",
      " 9   community_board                5798 non-null   object\n",
      " 10  council_district               5783 non-null   object\n",
      " 11  census_tract                   4648 non-null   object\n",
      " 12  neighborhood_tabulation_area   4648 non-null   object\n",
      " 13  latitude                       4642 non-null   object\n",
      " 14  longitude                      4642 non-null   object\n",
      " 15  latitude_internal              4545 non-null   object\n",
      " 16  longitude_internal             4545 non-null   object\n",
      " 17  reporting_construction_type    5798 non-null   object\n",
      " 18  extended_affordability_status  5798 non-null   object\n",
      " 19  prevailing_wage_status         5798 non-null   object\n",
      " 20  extremely_low_income_units     5798 non-null   object\n",
      " 21  very_low_income_units          5798 non-null   object\n",
      " 22  low_income_units               5798 non-null   object\n",
      " 23  moderate_income_units          5798 non-null   object\n",
      " 24  middle_income_units            5798 non-null   object\n",
      " 25  other_income_units             5798 non-null   object\n",
      " 26  studio_units                   5798 non-null   object\n",
      " 27  _1_br_units                    5798 non-null   object\n",
      " 28  _2_br_units                    5798 non-null   object\n",
      " 29  _3_br_units                    5798 non-null   object\n",
      " 30  _4_br_units                    5798 non-null   object\n",
      " 31  _5_br_units                    5798 non-null   object\n",
      " 32  _6_br_units                    5798 non-null   object\n",
      " 33  unknown_br_units               5798 non-null   object\n",
      " 34  counted_rental_units           5798 non-null   object\n",
      " 35  counted_homeownership_units    5798 non-null   object\n",
      " 36  all_counted_units              5798 non-null   object\n",
      " 37  total_units                    5798 non-null   object\n",
      " 38  project_completion_date        3964 non-null   object\n",
      " 39  building_completion_date       4147 non-null   object\n",
      " 40  bin                            2866 non-null   object\n",
      "dtypes: object(41)\n",
      "memory usage: 1.8+ MB\n"
     ]
    }
   ],
   "source": [
    "data.info()"
   ]
  },
  {
   "cell_type": "code",
   "execution_count": 14,
   "id": "57c25037",
   "metadata": {},
   "outputs": [],
   "source": [
    "#turn counts into numbers\n",
    "data[\"extremely_low_income_units\"] = data[\"extremely_low_income_units\"].astype(float)\n",
    "data[\"very_low_income_units\"] = data[\"very_low_income_units\"].astype(float)\n",
    "data[\"low_income_units\"] = data[\"low_income_units\"].astype(float)\n",
    "data[\"moderate_income_units\"] = data[\"moderate_income_units\"].astype(float)\n",
    "data[\"middle_income_units\"] = data[\"middle_income_units\"].astype(float)\n",
    "data[\"other_income_units\"] = data[\"other_income_units\"].astype(float)\n",
    "data[\"studio_units\"] = data[\"studio_units\"].astype(float)\n",
    "data[\"_1_br_units\"] = data[\"_1_br_units\"].astype(float)\n",
    "data[\"_2_br_units\"] = data[\"_2_br_units\"].astype(float)\n",
    "data[\"_3_br_units\"] = data[\"_3_br_units\"].astype(float)\n",
    "data[\"_4_br_units\"] = data[\"_4_br_units\"].astype(float)\n",
    "data[\"_5_br_units\"] = data[\"_5_br_units\"].astype(float)\n",
    "data[\"_6_br_units\"] = data[\"_6_br_units\"].astype(float)\n",
    "data[\"unknown_br_units\"] = data[\"unknown_br_units\"].astype(float)\n",
    "data[\"counted_rental_units\"] = data[\"counted_rental_units\"].astype(float)\n",
    "data[\"counted_homeownership_units\"] = data[\"counted_homeownership_units\"].astype(float)\n",
    "data[\"all_counted_units\"] = data[\"all_counted_units\"].astype(float)\n",
    "data[\"total_units\"] = data[\"total_units\"].astype(float)"
   ]
  },
  {
   "cell_type": "code",
   "execution_count": 15,
   "id": "a691584c",
   "metadata": {},
   "outputs": [],
   "source": [
    "#convert all date string objects into date objects\n",
    "data[\"project_start_date\"] = data[\"project_start_date\"].astype('datetime64[ns]')\n",
    "data[\"building_completion_date\"] = data[\"building_completion_date\"].astype('datetime64[ns]')\n",
    "data[\"project_completion_date\"] = data[\"project_completion_date\"].astype('datetime64[ns]')"
   ]
  },
  {
   "cell_type": "code",
   "execution_count": 16,
   "id": "c231b96b",
   "metadata": {},
   "outputs": [
    {
     "name": "stdout",
     "output_type": "stream",
     "text": [
      "number of duplicate rows: 0\n"
     ]
    }
   ],
   "source": [
    "print(f\"number of duplicate rows: {len(data[data.duplicated()])}\")"
   ]
  },
  {
   "cell_type": "code",
   "execution_count": 17,
   "id": "0f5ed27f",
   "metadata": {},
   "outputs": [
    {
     "name": "stdout",
     "output_type": "stream",
     "text": [
      "<class 'pandas.core.frame.DataFrame'>\n",
      "RangeIndex: 5798 entries, 0 to 5797\n",
      "Data columns (total 41 columns):\n",
      " #   Column                         Non-Null Count  Dtype         \n",
      "---  ------                         --------------  -----         \n",
      " 0   project_id                     5798 non-null   object        \n",
      " 1   project_name                   5798 non-null   object        \n",
      " 2   project_start_date             5798 non-null   datetime64[ns]\n",
      " 3   building_id                    4709 non-null   object        \n",
      " 4   house_number                   5798 non-null   object        \n",
      " 5   street_name                    5798 non-null   object        \n",
      " 6   borough                        5798 non-null   object        \n",
      " 7   postcode                       4642 non-null   object        \n",
      " 8   bbl                            4552 non-null   object        \n",
      " 9   community_board                5798 non-null   object        \n",
      " 10  council_district               5783 non-null   object        \n",
      " 11  census_tract                   4648 non-null   object        \n",
      " 12  neighborhood_tabulation_area   4648 non-null   object        \n",
      " 13  latitude                       4642 non-null   object        \n",
      " 14  longitude                      4642 non-null   object        \n",
      " 15  latitude_internal              4545 non-null   object        \n",
      " 16  longitude_internal             4545 non-null   object        \n",
      " 17  reporting_construction_type    5798 non-null   object        \n",
      " 18  extended_affordability_status  5798 non-null   object        \n",
      " 19  prevailing_wage_status         5798 non-null   object        \n",
      " 20  extremely_low_income_units     5798 non-null   float64       \n",
      " 21  very_low_income_units          5798 non-null   float64       \n",
      " 22  low_income_units               5798 non-null   float64       \n",
      " 23  moderate_income_units          5798 non-null   float64       \n",
      " 24  middle_income_units            5798 non-null   float64       \n",
      " 25  other_income_units             5798 non-null   float64       \n",
      " 26  studio_units                   5798 non-null   float64       \n",
      " 27  _1_br_units                    5798 non-null   float64       \n",
      " 28  _2_br_units                    5798 non-null   float64       \n",
      " 29  _3_br_units                    5798 non-null   float64       \n",
      " 30  _4_br_units                    5798 non-null   float64       \n",
      " 31  _5_br_units                    5798 non-null   float64       \n",
      " 32  _6_br_units                    5798 non-null   float64       \n",
      " 33  unknown_br_units               5798 non-null   float64       \n",
      " 34  counted_rental_units           5798 non-null   float64       \n",
      " 35  counted_homeownership_units    5798 non-null   float64       \n",
      " 36  all_counted_units              5798 non-null   float64       \n",
      " 37  total_units                    5798 non-null   float64       \n",
      " 38  project_completion_date        3964 non-null   datetime64[ns]\n",
      " 39  building_completion_date       4147 non-null   datetime64[ns]\n",
      " 40  bin                            2866 non-null   object        \n",
      "dtypes: datetime64[ns](3), float64(18), object(20)\n",
      "memory usage: 1.8+ MB\n"
     ]
    }
   ],
   "source": [
    "data.info()"
   ]
  },
  {
   "cell_type": "code",
   "execution_count": 18,
   "id": "3c8df3f4",
   "metadata": {},
   "outputs": [],
   "source": [
    "import seaborn as sns\n",
    "import matplotlib.pyplot as plt"
   ]
  },
  {
   "cell_type": "code",
   "execution_count": 31,
   "id": "7a190ed6",
   "metadata": {},
   "outputs": [
    {
     "data": {
      "text/plain": [
       "[Text(0.5, 1.0, 'Total units by Borough')]"
      ]
     },
     "execution_count": 31,
     "metadata": {},
     "output_type": "execute_result"
    },
    {
     "data": {
      "image/png": "[encoded data removed]",
      "text/plain": [
       "<Figure size 432x288 with 1 Axes>"
      ]
     },
     "metadata": {
      "needs_background": "light"
     },
     "output_type": "display_data"
    }
   ],
   "source": [
    "sns.countplot(y=data.borough).set(title='Total units by Borough')"
   ]
  },
  {
   "cell_type": "code",
   "execution_count": 30,
   "id": "b7a01cef",
   "metadata": {},
   "outputs": [
    {
     "data": {
      "text/plain": [
       "[Text(0.5, 1.0, 'Type of construction by Borough')]"
      ]
     },
     "execution_count": 30,
     "metadata": {},
     "output_type": "execute_result"
    },
    {
     "data": {
      "image/png": "[encoded data removed]",
      "text/plain": [
       "<Figure size 432x288 with 1 Axes>"
      ]
     },
     "metadata": {
      "needs_background": "light"
     },
     "output_type": "display_data"
    }
   ],
   "source": [
    "sns.countplot(x=\"borough\", data=data, hue=\"reporting_construction_type\").set(title='Type of construction by Borough')"
   ]
  },
  {
   "cell_type": "code",
   "execution_count": 21,
   "id": "44ec1fed",
   "metadata": {},
   "outputs": [
    {
     "name": "stderr",
     "output_type": "stream",
     "text": [
      "C:\\Users\\Diego\\anaconda3\\lib\\site-packages\\IPython\\core\\pylabtools.py:151: UserWarning: Creating legend with loc=\"best\" can be slow with large amounts of data.\n",
      "  fig.canvas.print_figure(bytes_io, **kw)\n"
     ]
    },
    {
     "data": {
      "image/png": "[encoded data removed]",
      "text/plain": [
       "<Figure size 432x288 with 1 Axes>"
      ]
     },
     "metadata": {
      "needs_background": "light"
     },
     "output_type": "display_data"
    }
   ],
   "source": [
    "width = 0.35\n",
    "fig, ax = plt.subplots()\n",
    "ax.bar(data.project_start_date.dt.year, data.total_units, width, color=\"blue\")\n",
    "ax.bar(data.project_start_date.dt.year, data.counted_rental_units, width, color=\"orange\")\n",
    "ax.set_xlabel(\"Project start date\")\n",
    "ax.set_ylabel(\"Number of units\")\n",
    "ax.set_title(\"Total Units against total affordable housing rental\")\n",
    "ax.legend([\"Total units\", \"Total affordable rental\"])\n",
    "plt.show()"
   ]
  },
  {
   "cell_type": "code",
   "execution_count": 22,
   "id": "446ea986",
   "metadata": {},
   "outputs": [
    {
     "data": {
      "image/png": "[encoded data removed]",
      "text/plain": [
       "<Figure size 432x288 with 1 Axes>"
      ]
     },
     "metadata": {
      "needs_background": "light"
     },
     "output_type": "display_data"
    }
   ],
   "source": [
    "width = 0.35\n",
    "fig, ax = plt.subplots()\n",
    "ax.bar(data.project_start_date.dt.year, data.counted_rental_units, width, color=\"orange\")\n",
    "ax.bar(data.project_start_date.dt.year, data.extremely_low_income_units, width, color=\"red\")\n",
    "ax.set_ylabel(\"Number of units\")\n",
    "ax.set_xlabel(\"Project start date\")\n",
    "ax.set_title(\"Rental units by extremly low income\")\n",
    "ax.legend([\"Total rental units\", \"Extremly low income\"])\n",
    "plt.show()"
   ]
  },
  {
   "cell_type": "code",
   "execution_count": 23,
   "id": "8bff4c92",
   "metadata": {},
   "outputs": [
    {
     "data": {
      "image/png": "[encoded data removed]",
      "text/plain": [
       "<Figure size 432x288 with 1 Axes>"
      ]
     },
     "metadata": {
      "needs_background": "light"
     },
     "output_type": "display_data"
    }
   ],
   "source": [
    "fig, ax = plt.subplots()\n",
    "ax = sns.lineplot(x=data.project_start_date.dt.year, y=data.extremely_low_income_units, color=\"red\")\n",
    "ax = sns.lineplot(x=data.project_start_date.dt.year, y=data.middle_income_units, color=\"green\")\n",
    "ax.set_ylabel(\"Number of units\")\n",
    "ax.set_title(\"Extremly low income vs. Middle income\")\n",
    "ax.legend([\"Extremly low income\", \"Middle income\"])\n",
    "plt.show()"
   ]
  },
  {
   "cell_type": "code",
   "execution_count": 34,
   "id": "9ebd0b0c",
   "metadata": {},
   "outputs": [
    {
     "data": {
      "text/plain": [
       "<seaborn.axisgrid.FacetGrid at 0x21968142d90>"
      ]
     },
     "execution_count": 34,
     "metadata": {},
     "output_type": "execute_result"
    },
    {
     "data": {
      "image/png": "[encoded data removed]",
      "text/plain": [
       "<Figure size 461.625x360 with 1 Axes>"
      ]
     },
     "metadata": {
      "needs_background": "light"
     },
     "output_type": "display_data"
    }
   ],
   "source": [
    "sns.relplot(x=data.project_start_date.dt.year, y=data.extremely_low_income_units, data=data, kind=\"line\", style=\"borough\", hue=\"borough\", dashes=False, ci=None).set(title='Extremly Low Income units by Borough')"
   ]
  },
  {
   "cell_type": "code",
   "execution_count": 33,
   "id": "828eb68b",
   "metadata": {},
   "outputs": [
    {
     "data": {
      "text/plain": [
       "<seaborn.axisgrid.FacetGrid at 0x21967fcd9a0>"
      ]
     },
     "execution_count": 33,
     "metadata": {},
     "output_type": "execute_result"
    },
    {
     "data": {
      "image/png": "[encoded data removed]",
      "text/plain": [
       "<Figure size 461.625x360 with 1 Axes>"
      ]
     },
     "metadata": {
      "needs_background": "light"
     },
     "output_type": "display_data"
    }
   ],
   "source": [
    "sns.relplot(x=data.project_start_date.dt.year, y=data.middle_income_units, data=data, kind=\"line\", style=\"borough\", hue=\"borough\", dashes=False, ci=None).set(title='Middle Income units by Borough')"
   ]
  },
  {
   "cell_type": "code",
   "execution_count": null,
   "id": "da9cbc2c",
   "metadata": {},
   "outputs": [],
   "source": []
  }
 ],
 "metadata": {
  "kernelspec": {
   "display_name": "Python 3 (ipykernel)",
   "language": "python",
   "name": "python3"
  },
  "language_info": {
   "codemirror_mode": {
    "name": "ipython",
    "version": 3
   },
   "file_extension": ".py",
   "mimetype": "text/x-python",
   "name": "python",
   "nbconvert_exporter": "python",
   "pygments_lexer": "ipython3",
   "version": "3.9.7"
  }
 },
 "nbformat": 4,
 "nbformat_minor": 5
}
